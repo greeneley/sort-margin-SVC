{
 "cells": [
  {
   "cell_type": "code",
   "execution_count": 129,
   "metadata": {},
   "outputs": [
    {
     "data": {
      "text/plain": [
       "(2, 4)"
      ]
     },
     "execution_count": 129,
     "metadata": {},
     "output_type": "execute_result"
    },
    {
     "data": {
      "image/png": "[encoded data removed]",
      "text/plain": [
       "<Figure size 432x288 with 1 Axes>"
      ]
     },
     "metadata": {
      "needs_background": "light"
     },
     "output_type": "display_data"
    }
   ],
   "source": [
    "import numpy as np\n",
    "import matplotlib.pyplot as plt\n",
    "%matplotlib inline\n",
    "np.random.seed(41) # oblige, if there's not seed, each time we run, it'll give a different random\n",
    "means = [[2, 2], [4,1]]\n",
    "cov = [[.3, .2], [.2, .3]]\n",
    "N = 10 \n",
    "X0 = np.random.multivariate_normal(means[0], cov, N) # draw random sample from a multivariate normal distribution\n",
    "# Tao ra gia tri ngau nhien dua tren phan phoi chuan nhieu chieu\n",
    "X1 = np.random.multivariate_normal(means[1], cov, N)\n",
    "\n",
    "# X1[-1, :] = [2.7, 2]\n",
    "X = np.concatenate((X0.T, X1.T), axis = 1)\n",
    "y = np.concatenate((np.ones((1, N)), -1*np.ones((1, N))), axis = 1)\n",
    "plt.plot(X0[:, 0], X0[:, 1], 'bs', alpha = 0.5)\n",
    "plt.plot(X1[:, 0], X1[:, 1], 'ro', alpha = 0.5)\n",
    "plt.axis('equal')\n",
    "plt.ylim(0, 3)\n",
    "plt.xlim(2, 4)"
   ]
  },
  {
   "cell_type": "markdown",
   "metadata": {},
   "source": [
    "## Solving by sklearn"
   ]
  },
  {
   "cell_type": "code",
   "execution_count": 131,
   "metadata": {},
   "outputs": [],
   "source": [
    "X = np.vstack((X0, X1)) # vstack tuong tu ham reshape(-1,1)\n",
    "y = np.vstack((np.ones((N,1 )), -np.ones((N,1 )))).reshape((2*N,))\n"
   ]
  },
  {
   "cell_type": "code",
   "execution_count": 132,
   "metadata": {},
   "outputs": [
    {
     "data": {
      "text/plain": [
       "SVC(C=100, cache_size=200, class_weight=None, coef0=0.0,\n",
       "  decision_function_shape='ovr', degree=3, gamma='auto_deprecated',\n",
       "  kernel='linear', max_iter=-1, probability=False, random_state=None,\n",
       "  shrinking=True, tol=0.001, verbose=False)"
      ]
     },
     "execution_count": 132,
     "metadata": {},
     "output_type": "execute_result"
    }
   ],
   "source": [
    "from sklearn.svm import SVC\n",
    "C = 100\n",
    "clf = SVC(kernel = 'linear', C = C)\n",
    "clf.fit(X, y)"
   ]
  },
  {
   "cell_type": "code",
   "execution_count": 133,
   "metadata": {},
   "outputs": [
    {
     "name": "stdout",
     "output_type": "stream",
     "text": [
      "[[-0.95969125]\n",
      " [ 0.7573336 ]] 1.8926917787557869\n"
     ]
    }
   ],
   "source": [
    "w_sklearn = clf.coef_.reshape(-1,1)\n",
    "b_sklearn = clf.intercept_[0]\n",
    "print(w_sklearn, b_sklearn)"
   ]
  },
  {
   "cell_type": "markdown",
   "metadata": {},
   "source": [
    "# Check by line plot"
   ]
  },
  {
   "cell_type": "code",
   "execution_count": 134,
   "metadata": {},
   "outputs": [],
   "source": [
    "x = np.arange(-10, 10, 0.1)\n",
    "y = -w_sklearn[0]/w_sklearn[1]*x - b_sklearn/w_sklearn[1]"
   ]
  },
  {
   "cell_type": "code",
   "execution_count": 135,
   "metadata": {},
   "outputs": [
    {
     "data": {
      "text/plain": [
       "<matplotlib.collections.PolyCollection at 0x7fa9e104def0>"
      ]
     },
     "execution_count": 135,
     "metadata": {},
     "output_type": "execute_result"
    },
    {
     "data": {
      "image/png": "[encoded data removed]",
      "text/plain": [
       "<Figure size 432x288 with 1 Axes>"
      ]
     },
     "metadata": {
      "needs_background": "light"
     },
     "output_type": "display_data"
    }
   ],
   "source": [
    "plt.plot(X0[:, 0], X0[:, 1], 'bs', markersize = 8, alpha = .8)\n",
    "plt.plot(X1[:, 0], X1[:, 1], 'ro', markersize = 8, alpha = .8)\n",
    "plt.plot(x, y, 'k', linewidth = 3)\n",
    "plt.axis('equal')\n",
    "plt.ylim(0, 3)\n",
    "plt.xlim(2, 4)\n",
    "# fill two* region\n",
    "y2 = 50*x\n",
    "plt.fill_between(x, y2, color = 'green', alpha=0.1)\n",
    "plt.fill_between(x, y, color='red', alpha = 0.1)"
   ]
  },
  {
   "cell_type": "markdown",
   "metadata": {},
   "source": [
    "## Test with oulier delection, soft-margin C is smaller"
   ]
  },
  {
   "cell_type": "code",
   "execution_count": 141,
   "metadata": {},
   "outputs": [
    {
     "data": {
      "text/plain": [
       "(2, 4)"
      ]
     },
     "execution_count": 141,
     "metadata": {},
     "output_type": "execute_result"
    },
    {
     "data": {
      "image/png": "[encoded data removed]",
      "text/plain": [
       "<Figure size 432x288 with 1 Axes>"
      ]
     },
     "metadata": {
      "needs_background": "light"
     },
     "output_type": "display_data"
    }
   ],
   "source": [
    "np.random.seed(41)\n",
    "means = [[2, 2], [4,1]]\n",
    "cov = [[.3, .2], [.2, .3]]\n",
    "N = 10 \n",
    "X0 = np.random.multivariate_normal(means[0], cov, N) # draw random sample from a multivariate normal distribution\n",
    "# Tao ra gia tri ngau nhien dua tren phan phoi chuan nhieu chieu\n",
    "X1 = np.random.multivariate_normal(means[1], cov, N)\n",
    "\n",
    "X1[-1, :] = [2.7, 2]\n",
    "X = np.concatenate((X0.T, X1.T), axis = 1)\n",
    "y = np.concatenate((np.ones((1, N)), -1*np.ones((1, N))), axis = 1)\n",
    "plt.plot(X0[:, 0], X0[:, 1], 'bs', alpha = 0.5)\n",
    "plt.plot(X1[:, 0], X1[:, 1], 'ro', alpha = 0.5)\n",
    "plt.axis('equal')\n",
    "plt.ylim(0, 3)\n",
    "plt.xlim(2, 4)"
   ]
  },
  {
   "cell_type": "code",
   "execution_count": 153,
   "metadata": {},
   "outputs": [
    {
     "name": "stdout",
     "output_type": "stream",
     "text": [
      "[[-6.74669745]\n",
      " [ 6.44348787]] 4.58836698526304\n"
     ]
    }
   ],
   "source": [
    "X = np.vstack((X0, X1)) # vstack tuong tu ham reshape(-1,1)\n",
    "y = np.vstack((np.ones((N,1 )), -np.ones((N,1 )))).reshape((2*N,))\n",
    "C = 50\n",
    "clf = SVC(kernel = 'linear', C = C)\n",
    "clf.fit(X, y)\n",
    "x = np.arange(-10, 10, 0.1)\n",
    "y = -w_sklearn[0]/w_sklearn[1]*x - b_sklearn/w_sklearn[1]\n",
    "\n",
    "w = clf.coef_.reshape(-1,1)\n",
    "b = clf.intercept_[0]\n",
    "print(w, b)"
   ]
  },
  {
   "cell_type": "code",
   "execution_count": 154,
   "metadata": {},
   "outputs": [],
   "source": [
    "x = np.arange(-10, 10, 0.1)\n",
    "y = -w[0]/w[1]*x - b/w[1]"
   ]
  },
  {
   "cell_type": "code",
   "execution_count": 155,
   "metadata": {},
   "outputs": [
    {
     "data": {
      "text/plain": [
       "<matplotlib.collections.PolyCollection at 0x7fa9e112dba8>"
      ]
     },
     "execution_count": 155,
     "metadata": {},
     "output_type": "execute_result"
    },
    {
     "data": {
      "image/png": "[encoded data removed]",
      "text/plain": [
       "<Figure size 432x288 with 1 Axes>"
      ]
     },
     "metadata": {
      "needs_background": "light"
     },
     "output_type": "display_data"
    }
   ],
   "source": [
    "plt.plot(X0[:, 0], X0[:, 1], 'bs', markersize = 8, alpha = .8)\n",
    "plt.plot(X1[:, 0], X1[:, 1], 'ro', markersize = 8, alpha = .8)\n",
    "plt.plot(x, y, 'k', linewidth = 3)\n",
    "plt.axis('equal')\n",
    "plt.ylim(0, 3)\n",
    "plt.xlim(2, 4)\n",
    "# fill two* region\n",
    "y2 = 50*x\n",
    "plt.fill_between(x, y2, color = 'green', alpha=0.1)\n",
    "plt.fill_between(x, y, color='red', alpha = 0.1)"
   ]
  },
  {
   "cell_type": "markdown",
   "metadata": {},
   "source": [
    "## Other example:"
   ]
  },
  {
   "cell_type": "code",
   "execution_count": 158,
   "metadata": {},
   "outputs": [
    {
     "data": {
      "text/plain": [
       "(2, 4)"
      ]
     },
     "execution_count": 158,
     "metadata": {},
     "output_type": "execute_result"
    },
    {
     "data": {
      "image/png": "[encoded data removed]",
      "text/plain": [
       "<Figure size 432x288 with 1 Axes>"
      ]
     },
     "metadata": {
      "needs_background": "light"
     },
     "output_type": "display_data"
    }
   ],
   "source": [
    "np.random.seed(41)\n",
    "means = [[2, 2], [4,1]]\n",
    "cov = [[.3, .2], [.2, .3]]\n",
    "N = 10 \n",
    "X0 = np.random.multivariate_normal(means[0], cov, N) # draw random sample from a multivariate normal distribution\n",
    "# Tao ra gia tri ngau nhien dua tren phan phoi chuan nhieu chieu\n",
    "X1 = np.random.multivariate_normal(means[1], cov, N)\n",
    "\n",
    "X1[-1, :] = [2.7, 2]\n",
    "X1[-2, :] = [2.5, 2.2]\n",
    "X = np.concatenate((X0.T, X1.T), axis = 1)\n",
    "y = np.concatenate((np.ones((1, N)), -1*np.ones((1, N))), axis = 1)\n",
    "plt.plot(X0[:, 0], X0[:, 1], 'bs', alpha = 0.5)\n",
    "plt.plot(X1[:, 0], X1[:, 1], 'ro', alpha = 0.5)\n",
    "plt.axis('equal')\n",
    "plt.ylim(0, 3)\n",
    "plt.xlim(2, 4)"
   ]
  },
  {
   "cell_type": "code",
   "execution_count": 175,
   "metadata": {},
   "outputs": [
    {
     "name": "stdout",
     "output_type": "stream",
     "text": [
      "[[-0.89377557]\n",
      " [ 0.8102086 ]] 1.5397681413961697\n"
     ]
    }
   ],
   "source": [
    "X = np.vstack((X0, X1)) # vstack tuong tu ham reshape(-1,1)\n",
    "y = np.vstack((np.ones((N,1 )), -np.ones((N,1 )))).reshape((2*N,))\n",
    "C = 3\n",
    "clf = SVC(kernel = 'linear', C = C)\n",
    "clf.fit(X, y)\n",
    "x = np.arange(-10, 10, 0.1)\n",
    "y = -w_sklearn[0]/w_sklearn[1]*x - b_sklearn/w_sklearn[1]\n",
    "\n",
    "w1 = clf.coef_.reshape(-1,1)\n",
    "b1 = clf.intercept_[0]\n",
    "print(w1, b1)"
   ]
  },
  {
   "cell_type": "code",
   "execution_count": 176,
   "metadata": {},
   "outputs": [],
   "source": [
    "x = np.arange(-10, 10, 0.1)\n",
    "y = -w1[0]/w1[1]*x - b1/w[1]"
   ]
  },
  {
   "cell_type": "code",
   "execution_count": 177,
   "metadata": {},
   "outputs": [
    {
     "data": {
      "text/plain": [
       "<matplotlib.collections.PolyCollection at 0x7fa9e0bdd2e8>"
      ]
     },
     "execution_count": 177,
     "metadata": {},
     "output_type": "execute_result"
    },
    {
     "data": {
      "image/png": "[encoded data removed]",
      "text/plain": [
       "<Figure size 432x288 with 1 Axes>"
      ]
     },
     "metadata": {
      "needs_background": "light"
     },
     "output_type": "display_data"
    }
   ],
   "source": [
    "plt.plot(X0[:, 0], X0[:, 1], 'bs', markersize = 8, alpha = .8)\n",
    "plt.plot(X1[:, 0], X1[:, 1], 'ro', markersize = 8, alpha = .8)\n",
    "plt.plot(x, y, 'k', linewidth = 3)\n",
    "plt.axis('equal')\n",
    "plt.ylim(0, 3)\n",
    "plt.xlim(2, 4)\n",
    "# fill two* region\n",
    "y2 = 50*x\n",
    "plt.fill_between(x, y2, color = 'green', alpha=0.1)\n",
    "plt.fill_between(x, y, color='red', alpha = 0.1)"
   ]
  },
  {
   "cell_type": "code",
   "execution_count": null,
   "metadata": {},
   "outputs": [],
   "source": []
  }
 ],
 "metadata": {
  "kernelspec": {
   "display_name": "Python 3",
   "language": "python",
   "name": "python3"
  },
  "language_info": {
   "codemirror_mode": {
    "name": "ipython",
    "version": 3
   },
   "file_extension": ".py",
   "mimetype": "text/x-python",
   "name": "python",
   "nbconvert_exporter": "python",
   "pygments_lexer": "ipython3",
   "version": "3.7.3"
  }
 },
 "nbformat": 4,
 "nbformat_minor": 2
}
